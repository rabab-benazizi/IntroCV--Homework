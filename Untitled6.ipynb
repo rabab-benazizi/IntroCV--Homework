{
  "nbformat": 4,
  "nbformat_minor": 0,
  "metadata": {
    "colab": {
      "provenance": []
    },
    "kernelspec": {
      "name": "python3",
      "display_name": "Python 3"
    },
    "language_info": {
      "name": "python"
    }
  },
  "cells": [
    {
      "cell_type": "markdown",
      "source": [
        "# **Introduction to Computer Vision**\n",
        "\n",
        "\n",
        "\n",
        "---\n",
        "\n",
        "\n",
        "# ***Homework***\n",
        "\n",
        "\n",
        "---\n",
        "\n",
        "\n",
        "\n",
        "# **Submission Deadline: June 4th, 2024.:\\**\n",
        "\n",
        "\n",
        "---\n",
        "\n",
        "# **Rabab BENAZIZI 115813**"
      ],
      "metadata": {
        "id": "YBqb13SPZQyw"
      }
    },
    {
      "cell_type": "code",
      "source": [
        "from google.colab import drive\n",
        "drive.mount('/content/drive')"
      ],
      "metadata": {
        "id": "LP90zJq4o1iM"
      },
      "execution_count": null,
      "outputs": []
    },
    {
      "cell_type": "code",
      "source": [
        "# Importation des bibliothèques nécessaires\n",
        "import tensorflow as tf\n",
        "from tensorflow.keras import datasets, layers, models\n",
        "from sklearn.metrics import classification_report, confusion_matrix\n",
        "import numpy as np\n",
        "import matplotlib.pyplot as plt\n",
        "import seaborn as sns"
      ],
      "metadata": {
        "id": "RhySdvTjZRHI"
      },
      "execution_count": 1,
      "outputs": []
    },
    {
      "cell_type": "code",
      "source": [
        "# Chargement et prétraitement des données CIFAR-10\n",
        "(train_images, train_labels), (test_images, test_labels) = datasets.cifar10.load_data()\n"
      ],
      "metadata": {
        "colab": {
          "base_uri": "https://localhost:8080/"
        },
        "id": "7PH-7oAhZV5P",
        "outputId": "92a3ef7f-dff5-4894-d47d-bbfbc4bcd24f"
      },
      "execution_count": 2,
      "outputs": [
        {
          "output_type": "stream",
          "name": "stdout",
          "text": [
            "Downloading data from https://www.cs.toronto.edu/~kriz/cifar-10-python.tar.gz\n",
            "170498071/170498071 [==============================] - 6s 0us/step\n"
          ]
        }
      ]
    },
    {
      "cell_type": "markdown",
      "source": [
        "- The acquisition and loading of data, which sets the stage for subsequent steps of preprocessing, modeling, and evaluation."
      ],
      "metadata": {
        "id": "I9OLezTce4iD"
      }
    },
    {
      "cell_type": "code",
      "source": [
        "# Réétiqueter les classes : 1 pour 'can fly' (oiseau, avion), 0 pour 'cannot fly' (autres)\n",
        "def reclassify_labels(images, labels):\n",
        "    new_images = []\n",
        "    new_labels = []\n",
        "    for img, label in zip(images, labels):\n",
        "        if label in [0, 2, 3, 4, 5, 6, 7, 8]:\n",
        "            new_labels.append(0)\n",
        "            new_images.append(img)\n",
        "        elif label in [1, 9]:\n",
        "            new_labels.append(1)\n",
        "            new_images.append(img)\n",
        "    return np.array(new_images), np.array(new_labels)\n",
        "\n",
        "train_images, train_labels = reclassify_labels(train_images, train_labels)\n",
        "test_images, test_labels = reclassify_labels(test_images, test_labels)"
      ],
      "metadata": {
        "id": "IlcauntOZYyE"
      },
      "execution_count": 4,
      "outputs": []
    },
    {
      "cell_type": "code",
      "source": [
        "# Vérifier les dimensions des labels après reclassification\n",
        "print(f'Train images: {train_images.shape}')\n",
        "print(f'Train labels: {train_labels.shape}')\n",
        "print(f'Test images: {test_images.shape}')\n",
        "print(f'Test labels: {test_labels.shape}')"
      ],
      "metadata": {
        "colab": {
          "base_uri": "https://localhost:8080/"
        },
        "id": "6AE5RdqBZi5X",
        "outputId": "9325011e-3a9d-4a4a-fb10-f43303a558d3"
      },
      "execution_count": 5,
      "outputs": [
        {
          "output_type": "stream",
          "name": "stdout",
          "text": [
            "Train images: (50000, 32, 32, 3)\n",
            "Train labels: (50000,)\n",
            "Test images: (10000, 32, 32, 3)\n",
            "Test labels: (10000,)\n"
          ]
        }
      ]
    },
    {
      "cell_type": "markdown",
      "source": [
        "***Data Dimensions Analysis***\n",
        "- **Train images:**\n",
        "\n",
        "-Dimensions: (50000, 32, 32, 3)\n",
        "\n",
        "-Description: There are 50,000 training images, each with a size of 32x32 pixels and 3 color channels (RGB).\n",
        "-  **texte en gras**\n",
        "\n",
        "-Dimensions: (50000,)\n",
        "\n",
        "-Description: There are 50,000 training labels, corresponding to each training image.\n",
        "\n",
        "- **Test images:**\n",
        "\n",
        "-Dimensions: (10000, 32, 32, 3)\n",
        "\n",
        "-Description: There are 10,000 test images, each with a size of 32x32 pixels and 3 color channels (RGB).\n",
        "- **Test labels:**\n",
        "\n",
        "-Dimensions: (10000,)\n",
        "\n",
        "-Description: There are 10,000 test labels, corresponding to each test image."
      ],
      "metadata": {
        "id": "gbRbVVBufkaO"
      }
    },
    {
      "cell_type": "code",
      "source": [
        "\n",
        "# Normalisation des images\n",
        "train_images, test_images = train_images / 255.0, test_images / 255.0"
      ],
      "metadata": {
        "id": "5P6sMCJhZmB4"
      },
      "execution_count": 6,
      "outputs": []
    },
    {
      "cell_type": "code",
      "source": [
        "# Définition du modèle CNN\n",
        "model = models.Sequential([\n",
        "    layers.Conv2D(32, (3, 3), activation='relu', input_shape=(32, 32, 3)),\n",
        "    layers.MaxPooling2D((2, 2)),\n",
        "    layers.Conv2D(64, (3, 3), activation='relu'),\n",
        "    layers.MaxPooling2D((2, 2)),\n",
        "    layers.Conv2D(64, (3, 3), activation='relu'),\n",
        "    layers.Flatten(),\n",
        "    layers.Dense(64, activation='relu'),\n",
        "    layers.Dense(1, activation='sigmoid')  # Utilisation de sigmoid pour une classification binaire\n",
        "])"
      ],
      "metadata": {
        "id": "T5uwglKQZpou"
      },
      "execution_count": 7,
      "outputs": []
    },
    {
      "cell_type": "code",
      "source": [
        "# Compilation du modèle\n",
        "model.compile(optimizer='adam',\n",
        "              loss='binary_crossentropy',\n",
        "              metrics=['accuracy'])"
      ],
      "metadata": {
        "id": "d-CccJLjZseZ"
      },
      "execution_count": 8,
      "outputs": []
    },
    {
      "cell_type": "code",
      "source": [
        "# Entraînement du modèle\n",
        "history = model.fit(train_images, train_labels, epochs=10,\n",
        "                    validation_data=(test_images, test_labels))"
      ],
      "metadata": {
        "colab": {
          "base_uri": "https://localhost:8080/"
        },
        "id": "Fi7ZFSQOZygr",
        "outputId": "aad04802-1379-43f9-f905-808d75350560"
      },
      "execution_count": 9,
      "outputs": [
        {
          "output_type": "stream",
          "name": "stdout",
          "text": [
            "Epoch 1/10\n",
            "1563/1563 [==============================] - 100s 63ms/step - loss: 0.2522 - accuracy: 0.8952 - val_loss: 0.2150 - val_accuracy: 0.9162\n",
            "Epoch 2/10\n",
            "1563/1563 [==============================] - 75s 48ms/step - loss: 0.1702 - accuracy: 0.9335 - val_loss: 0.1805 - val_accuracy: 0.9307\n",
            "Epoch 3/10\n",
            "1563/1563 [==============================] - 75s 48ms/step - loss: 0.1358 - accuracy: 0.9482 - val_loss: 0.1293 - val_accuracy: 0.9534\n",
            "Epoch 4/10\n",
            "1563/1563 [==============================] - 74s 47ms/step - loss: 0.1159 - accuracy: 0.9571 - val_loss: 0.1328 - val_accuracy: 0.9491\n",
            "Epoch 5/10\n",
            "1563/1563 [==============================] - 80s 51ms/step - loss: 0.1015 - accuracy: 0.9622 - val_loss: 0.1185 - val_accuracy: 0.9554\n",
            "Epoch 6/10\n",
            "1563/1563 [==============================] - 76s 49ms/step - loss: 0.0867 - accuracy: 0.9684 - val_loss: 0.1141 - val_accuracy: 0.9578\n",
            "Epoch 7/10\n",
            "1563/1563 [==============================] - 75s 48ms/step - loss: 0.0764 - accuracy: 0.9722 - val_loss: 0.1183 - val_accuracy: 0.9602\n",
            "Epoch 8/10\n",
            "1563/1563 [==============================] - 70s 45ms/step - loss: 0.0646 - accuracy: 0.9764 - val_loss: 0.1169 - val_accuracy: 0.9621\n",
            "Epoch 9/10\n",
            "1563/1563 [==============================] - 72s 46ms/step - loss: 0.0584 - accuracy: 0.9781 - val_loss: 0.1244 - val_accuracy: 0.9573\n",
            "Epoch 10/10\n",
            "1563/1563 [==============================] - 72s 46ms/step - loss: 0.0496 - accuracy: 0.9819 - val_loss: 0.1243 - val_accuracy: 0.9631\n"
          ]
        }
      ]
    },
    {
      "cell_type": "markdown",
      "source": [
        "- The results show that the CNN model is training effectively on the CIFAR-10 data, with strong performance in terms of accuracy and loss on both the training and validation sets. However, it would be beneficial to monitor the validation loss in the later epochs to ensure there is no significant overfitting. Techniques such as regularization or data augmentation could be used to further improve the model's generalization."
      ],
      "metadata": {
        "id": "IwZAxgp2g4ls"
      }
    },
    {
      "cell_type": "code",
      "source": [
        "# Évaluation du modèle\n",
        "test_loss, test_acc = model.evaluate(test_images, test_labels, verbose=2)\n",
        "print(f'\\nTest accuracy: {test_acc}')"
      ],
      "metadata": {
        "colab": {
          "base_uri": "https://localhost:8080/"
        },
        "id": "NMUe5Y2sZz2Y",
        "outputId": "fb117bd1-2e9e-489e-9545-1636a0ffcccf"
      },
      "execution_count": 11,
      "outputs": [
        {
          "output_type": "stream",
          "name": "stdout",
          "text": [
            "313/313 - 4s - loss: 0.1243 - accuracy: 0.9631 - 4s/epoch - 11ms/step\n",
            "\n",
            "Test accuracy: 0.963100016117096\n"
          ]
        }
      ]
    },
    {
      "cell_type": "markdown",
      "source": [
        "- The evaluation results show that the CNN model performs well on the test dataset with an accuracy of 96.31% and a relatively low loss of 0.1243. This confirms that the model is effective for the task of classifying objects in the CIFAR-10 dataset into two categories: \"can fly\" and \"cannot fly.\"\n",
        "\n",
        "==>In summary, the results are very encouraging and demonstrate that the model is performant for the classification task on the CIFAR-10 dataset."
      ],
      "metadata": {
        "id": "rsbx03zThZ-r"
      }
    },
    {
      "cell_type": "code",
      "source": [
        "# Prédictions sur le jeu de test\n",
        "predictions = (model.predict(test_images) > 0.5).astype(\"int32\")"
      ],
      "metadata": {
        "colab": {
          "base_uri": "https://localhost:8080/"
        },
        "id": "HmOyn4WoZ4lC",
        "outputId": "01dc707c-c8e3-4357-f267-550842217b38"
      },
      "execution_count": 12,
      "outputs": [
        {
          "output_type": "stream",
          "name": "stdout",
          "text": [
            "313/313 [==============================] - 4s 13ms/step\n"
          ]
        }
      ]
    },
    {
      "cell_type": "code",
      "source": [
        "# Calcul et affichage des métriques d'évaluation\n",
        "print(classification_report(test_labels, predictions, target_names=['cannot fly', 'can fly']))"
      ],
      "metadata": {
        "colab": {
          "base_uri": "https://localhost:8080/"
        },
        "id": "TKchO0brZ73K",
        "outputId": "591219bf-a75e-4947-82d5-2f06abfeee41"
      },
      "execution_count": 13,
      "outputs": [
        {
          "output_type": "stream",
          "name": "stdout",
          "text": [
            "              precision    recall  f1-score   support\n",
            "\n",
            "  cannot fly       0.97      0.98      0.98      8000\n",
            "     can fly       0.92      0.89      0.91      2000\n",
            "\n",
            "    accuracy                           0.96     10000\n",
            "   macro avg       0.95      0.94      0.94     10000\n",
            "weighted avg       0.96      0.96      0.96     10000\n",
            "\n"
          ]
        }
      ]
    },
    {
      "cell_type": "markdown",
      "source": [
        "- The classification report shows that the CNN model performs well for the task of classifying objects in the CIFAR-10 dataset into two categories: \"can fly\" and \"cannot fly.\" The precision, recall, and F1-score metrics are high, especially for the \"cannot fly\" class. The results suggest that the model is reliable and well-balanced between precision and recall for both classes.\n",
        "\n",
        "In summary, the detailed results of the classification report confirm that the model is effective and provides accurate predictions for the specified categories."
      ],
      "metadata": {
        "id": "RbYSRYRViEhT"
      }
    },
    {
      "cell_type": "code",
      "source": [
        "# Matrice de confusion\n",
        "conf_matrix = confusion_matrix(test_labels, predictions)\n",
        "plt.figure(figsize=(10, 7))\n",
        "sns.heatmap(conf_matrix, annot=True, fmt='d', cmap='Blues', xticklabels=['cannot fly', 'can fly'], yticklabels=['cannot fly', 'can fly'])\n",
        "plt.xlabel('Predicted')\n",
        "plt.ylabel('True')\n",
        "plt.show()"
      ],
      "metadata": {
        "colab": {
          "base_uri": "https://localhost:8080/",
          "height": 619
        },
        "id": "8S28OdDwaAeM",
        "outputId": "a34db368-ba95-4228-d7c0-ca9f3117a299"
      },
      "execution_count": 14,
      "outputs": [
        {
          "output_type": "display_data",
          "data": {
            "text/plain": [
              "<Figure size 1000x700 with 2 Axes>"
            ],
            "image/png": "[encoded data removed]"
          },
          "metadata": {}
        }
      ]
    },
    {
      "cell_type": "markdown",
      "source": [
        "**Overall Analysis:**\n",
        "- True Positives (TP): [1781](https://)\n",
        "- False Positives (FP): [150](https://)\n",
        "- False Negatives (FN): [219](https://)\n",
        "- True Negatives (TN): [7850](https://)\n",
        "\n",
        "\n"
      ],
      "metadata": {
        "id": "_yGH_7t4jmBX"
      }
    },
    {
      "cell_type": "markdown",
      "source": [
        "# ***Conclusion:***\n",
        "The model shows strong overall performance with a large majority of correct predictions for both classes. There is a slight imbalance where the model is slightly better at predicting the \"cannot fly\" class compared to the \"can fly\" class, as indicated by the false negatives (219) and false positives (150). The confusion matrix suggests that the model is effective but could benefit from further adjustments, such as improving the recall for the \"can fly\" class. In summary, the CNN model performs well for the task of classifying objects in the CIFAR-10 dataset, with encouraging results and high performance in most cases."
      ],
      "metadata": {
        "id": "yQ2UQnkOlBpc"
      }
    }
  ]
}